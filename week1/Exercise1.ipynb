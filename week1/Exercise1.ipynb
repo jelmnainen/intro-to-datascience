{
 "cells": [
  {
   "cell_type": "markdown",
   "metadata": {
    "deletable": true,
    "editable": true
   },
   "source": [
    "# Datascience Week 1, exercise 1"
   ]
  },
  {
   "cell_type": "markdown",
   "metadata": {
    "deletable": true,
    "editable": true
   },
   "source": [
    "### Exercice 1.1: read the data"
   ]
  },
  {
   "cell_type": "code",
   "execution_count": 97,
   "metadata": {
    "collapsed": false,
    "deletable": true,
    "editable": true
   },
   "outputs": [
    {
     "name": "stdout",
     "output_type": "stream",
     "text": [
      "   PassengerId  Survived  Pclass  \\\n",
      "0            1         0       3   \n",
      "1            2         1       1   \n",
      "2            3         1       3   \n",
      "3            4         1       1   \n",
      "4            5         0       3   \n",
      "\n",
      "                                                Name     Sex   Age  SibSp  \\\n",
      "0                            Braund, Mr. Owen Harris    male  22.0      1   \n",
      "1  Cumings, Mrs. John Bradley (Florence Briggs Th...  female  38.0      1   \n",
      "2                             Heikkinen, Miss. Laina  female  26.0      0   \n",
      "3       Futrelle, Mrs. Jacques Heath (Lily May Peel)  female  35.0      1   \n",
      "4                           Allen, Mr. William Henry    male  35.0      0   \n",
      "\n",
      "   Parch            Ticket     Fare Cabin Embarked  \n",
      "0      0         A/5 21171   7.2500   NaN        S  \n",
      "1      0          PC 17599  71.2833   C85        C  \n",
      "2      0  STON/O2. 3101282   7.9250   NaN        S  \n",
      "3      0            113803  53.1000  C123        S  \n",
      "4      0            373450   8.0500   NaN        S  \n"
     ]
    }
   ],
   "source": [
    "import pandas as pd\n",
    "\n",
    "data = pd.read_csv('train.csv')\n",
    "print(data[0:5])"
   ]
  },
  {
   "cell_type": "markdown",
   "metadata": {
    "deletable": true,
    "editable": true
   },
   "source": [
    "### Exercise 1.2: crop useless columns\n",
    "\n",
    "I judged that `Name` and `Ticket` would be useless columns. `SibSp` is a bit iffy, but I decided to leave it in the data. "
   ]
  },
  {
   "cell_type": "code",
   "execution_count": 98,
   "metadata": {
    "collapsed": false,
    "deletable": true,
    "editable": true
   },
   "outputs": [
    {
     "name": "stdout",
     "output_type": "stream",
     "text": [
      "   PassengerId  Survived  Pclass     Sex   Age  SibSp  Parch     Fare Cabin  \\\n",
      "0            1         0       3    male  22.0      1      0   7.2500   NaN   \n",
      "1            2         1       1  female  38.0      1      0  71.2833   C85   \n",
      "2            3         1       3  female  26.0      0      0   7.9250   NaN   \n",
      "3            4         1       1  female  35.0      1      0  53.1000  C123   \n",
      "4            5         0       3    male  35.0      0      0   8.0500   NaN   \n",
      "\n",
      "  Embarked  \n",
      "0        S  \n",
      "1        C  \n",
      "2        S  \n",
      "3        S  \n",
      "4        S  \n"
     ]
    }
   ],
   "source": [
    "croppedData = data.drop(['Name', 'Ticket'], axis=1)\n",
    "print(croppedData[0:5])"
   ]
  },
  {
   "cell_type": "markdown",
   "metadata": {
    "collapsed": true,
    "deletable": true,
    "editable": true
   },
   "source": [
    "### Exercise 1.3: Make a new column with deck letters\n",
    "Some passangers have multiple cabins. With the exception of those marked with 'F', these are always on the same deck, so I stuck with picking the first letter. I couldn't find out what that 'F' mark would mean.\n",
    "\n",
    "First, check the multi cabin data:"
   ]
  },
  {
   "cell_type": "code",
   "execution_count": 99,
   "metadata": {
    "collapsed": false,
    "deletable": true,
    "editable": true
   },
   "outputs": [
    {
     "data": {
      "text/plain": [
       "27         C23 C25 C27\n",
       "75               F G73\n",
       "88         C23 C25 C27\n",
       "97             D10 D12\n",
       "118            B58 B60\n",
       "128              F E69\n",
       "297            C22 C26\n",
       "299            B58 B60\n",
       "305            C22 C26\n",
       "311    B57 B59 B63 B66\n",
       "341        C23 C25 C27\n",
       "390            B96 B98\n",
       "435            B96 B98\n",
       "438        C23 C25 C27\n",
       "498            C22 C26\n",
       "679        B51 B53 B55\n",
       "699              F G63\n",
       "700            C62 C64\n",
       "715              F G73\n",
       "742    B57 B59 B63 B66\n",
       "763            B96 B98\n",
       "789            B82 B84\n",
       "802            B96 B98\n",
       "872        B51 B53 B55\n",
       "Name: Cabin, dtype: object"
      ]
     },
     "execution_count": 99,
     "metadata": {},
     "output_type": "execute_result"
    }
   ],
   "source": [
    "\n",
    "multiCabin = croppedData['Cabin'].map(lambda cabin: len(str(cabin)) > 4)\n",
    "croppedData[multiCabin]['Cabin']"
   ]
  },
  {
   "cell_type": "markdown",
   "metadata": {
    "deletable": true,
    "editable": true
   },
   "source": [
    "Then, insert the cabin letters column: "
   ]
  },
  {
   "cell_type": "code",
   "execution_count": 100,
   "metadata": {
    "collapsed": false,
    "deletable": true,
    "editable": true
   },
   "outputs": [
    {
     "name": "stdout",
     "output_type": "stream",
     "text": [
      "     PassengerId  Survived  Pclass     Sex   Age  SibSp  Parch      Fare  \\\n",
      "0              1         0       3    male  22.0      1      0    7.2500   \n",
      "1              2         1       1  female  38.0      1      0   71.2833   \n",
      "2              3         1       3  female  26.0      0      0    7.9250   \n",
      "3              4         1       1  female  35.0      1      0   53.1000   \n",
      "4              5         0       3    male  35.0      0      0    8.0500   \n",
      "5              6         0       3    male   NaN      0      0    8.4583   \n",
      "6              7         0       1    male  54.0      0      0   51.8625   \n",
      "7              8         0       3    male   2.0      3      1   21.0750   \n",
      "8              9         1       3  female  27.0      0      2   11.1333   \n",
      "9             10         1       2  female  14.0      1      0   30.0708   \n",
      "10            11         1       3  female   4.0      1      1   16.7000   \n",
      "11            12         1       1  female  58.0      0      0   26.5500   \n",
      "12            13         0       3    male  20.0      0      0    8.0500   \n",
      "13            14         0       3    male  39.0      1      5   31.2750   \n",
      "14            15         0       3  female  14.0      0      0    7.8542   \n",
      "15            16         1       2  female  55.0      0      0   16.0000   \n",
      "16            17         0       3    male   2.0      4      1   29.1250   \n",
      "17            18         1       2    male   NaN      0      0   13.0000   \n",
      "18            19         0       3  female  31.0      1      0   18.0000   \n",
      "19            20         1       3  female   NaN      0      0    7.2250   \n",
      "20            21         0       2    male  35.0      0      0   26.0000   \n",
      "21            22         1       2    male  34.0      0      0   13.0000   \n",
      "22            23         1       3  female  15.0      0      0    8.0292   \n",
      "23            24         1       1    male  28.0      0      0   35.5000   \n",
      "24            25         0       3  female   8.0      3      1   21.0750   \n",
      "25            26         1       3  female  38.0      1      5   31.3875   \n",
      "26            27         0       3    male   NaN      0      0    7.2250   \n",
      "27            28         0       1    male  19.0      3      2  263.0000   \n",
      "28            29         1       3  female   NaN      0      0    7.8792   \n",
      "29            30         0       3    male   NaN      0      0    7.8958   \n",
      "..           ...       ...     ...     ...   ...    ...    ...       ...   \n",
      "861          862         0       2    male  21.0      1      0   11.5000   \n",
      "862          863         1       1  female  48.0      0      0   25.9292   \n",
      "863          864         0       3  female   NaN      8      2   69.5500   \n",
      "864          865         0       2    male  24.0      0      0   13.0000   \n",
      "865          866         1       2  female  42.0      0      0   13.0000   \n",
      "866          867         1       2  female  27.0      1      0   13.8583   \n",
      "867          868         0       1    male  31.0      0      0   50.4958   \n",
      "868          869         0       3    male   NaN      0      0    9.5000   \n",
      "869          870         1       3    male   4.0      1      1   11.1333   \n",
      "870          871         0       3    male  26.0      0      0    7.8958   \n",
      "871          872         1       1  female  47.0      1      1   52.5542   \n",
      "872          873         0       1    male  33.0      0      0    5.0000   \n",
      "873          874         0       3    male  47.0      0      0    9.0000   \n",
      "874          875         1       2  female  28.0      1      0   24.0000   \n",
      "875          876         1       3  female  15.0      0      0    7.2250   \n",
      "876          877         0       3    male  20.0      0      0    9.8458   \n",
      "877          878         0       3    male  19.0      0      0    7.8958   \n",
      "878          879         0       3    male   NaN      0      0    7.8958   \n",
      "879          880         1       1  female  56.0      0      1   83.1583   \n",
      "880          881         1       2  female  25.0      0      1   26.0000   \n",
      "881          882         0       3    male  33.0      0      0    7.8958   \n",
      "882          883         0       3  female  22.0      0      0   10.5167   \n",
      "883          884         0       2    male  28.0      0      0   10.5000   \n",
      "884          885         0       3    male  25.0      0      0    7.0500   \n",
      "885          886         0       3  female  39.0      0      5   29.1250   \n",
      "886          887         0       2    male  27.0      0      0   13.0000   \n",
      "887          888         1       1  female  19.0      0      0   30.0000   \n",
      "888          889         0       3  female   NaN      1      2   23.4500   \n",
      "889          890         1       1    male  26.0      0      0   30.0000   \n",
      "890          891         0       3    male  32.0      0      0    7.7500   \n",
      "\n",
      "           Cabin Embarked CabinLetters  \n",
      "0            NaN        S          NaN  \n",
      "1            C85        C            C  \n",
      "2            NaN        S          NaN  \n",
      "3           C123        S            C  \n",
      "4            NaN        S          NaN  \n",
      "5            NaN        Q          NaN  \n",
      "6            E46        S            E  \n",
      "7            NaN        S          NaN  \n",
      "8            NaN        S          NaN  \n",
      "9            NaN        C          NaN  \n",
      "10            G6        S            G  \n",
      "11          C103        S            C  \n",
      "12           NaN        S          NaN  \n",
      "13           NaN        S          NaN  \n",
      "14           NaN        S          NaN  \n",
      "15           NaN        S          NaN  \n",
      "16           NaN        Q          NaN  \n",
      "17           NaN        S          NaN  \n",
      "18           NaN        S          NaN  \n",
      "19           NaN        C          NaN  \n",
      "20           NaN        S          NaN  \n",
      "21           D56        S            D  \n",
      "22           NaN        Q          NaN  \n",
      "23            A6        S            A  \n",
      "24           NaN        S          NaN  \n",
      "25           NaN        S          NaN  \n",
      "26           NaN        C          NaN  \n",
      "27   C23 C25 C27        S            C  \n",
      "28           NaN        Q          NaN  \n",
      "29           NaN        S          NaN  \n",
      "..           ...      ...          ...  \n",
      "861          NaN        S          NaN  \n",
      "862          D17        S            D  \n",
      "863          NaN        S          NaN  \n",
      "864          NaN        S          NaN  \n",
      "865          NaN        S          NaN  \n",
      "866          NaN        C          NaN  \n",
      "867          A24        S            A  \n",
      "868          NaN        S          NaN  \n",
      "869          NaN        S          NaN  \n",
      "870          NaN        S          NaN  \n",
      "871          D35        S            D  \n",
      "872  B51 B53 B55        S            B  \n",
      "873          NaN        S          NaN  \n",
      "874          NaN        C          NaN  \n",
      "875          NaN        C          NaN  \n",
      "876          NaN        S          NaN  \n",
      "877          NaN        S          NaN  \n",
      "878          NaN        S          NaN  \n",
      "879          C50        C            C  \n",
      "880          NaN        S          NaN  \n",
      "881          NaN        S          NaN  \n",
      "882          NaN        S          NaN  \n",
      "883          NaN        S          NaN  \n",
      "884          NaN        S          NaN  \n",
      "885          NaN        Q          NaN  \n",
      "886          NaN        S          NaN  \n",
      "887          B42        S            B  \n",
      "888          NaN        S          NaN  \n",
      "889         C148        C            C  \n",
      "890          NaN        Q          NaN  \n",
      "\n",
      "[891 rows x 11 columns]\n"
     ]
    }
   ],
   "source": [
    "def getFirstLetterOrNaN(val):\n",
    "    if(isinstance(val, str)):\n",
    "        return val[0]\n",
    "    return float('nan')\n",
    "\n",
    "letterSeries = croppedData['Cabin'].map(getFirstLetterOrNaN)\n",
    "cabinLetteredData = croppedData.assign(CabinLetters = letterSeries)\n",
    "print(cabinLetteredData)"
   ]
  },
  {
   "cell_type": "code",
   "execution_count": 125,
   "metadata": {
    "collapsed": false,
    "deletable": true,
    "editable": true
   },
   "outputs": [
    {
     "name": "stdout",
     "output_type": "stream",
     "text": [
      "     PassengerId  Survived  Pclass  Sex   Age  SibSp  Parch      Fare  \\\n",
      "0              1         0       3    0  22.0      1      0    7.2500   \n",
      "1              2         1       1    1  38.0      1      0   71.2833   \n",
      "2              3         1       3    1  26.0      0      0    7.9250   \n",
      "3              4         1       1    1  35.0      1      0   53.1000   \n",
      "4              5         0       3    0  35.0      0      0    8.0500   \n",
      "5              6         0       3    0   NaN      0      0    8.4583   \n",
      "6              7         0       1    0  54.0      0      0   51.8625   \n",
      "7              8         0       3    0   2.0      3      1   21.0750   \n",
      "8              9         1       3    1  27.0      0      2   11.1333   \n",
      "9             10         1       2    1  14.0      1      0   30.0708   \n",
      "10            11         1       3    1   4.0      1      1   16.7000   \n",
      "11            12         1       1    1  58.0      0      0   26.5500   \n",
      "12            13         0       3    0  20.0      0      0    8.0500   \n",
      "13            14         0       3    0  39.0      1      5   31.2750   \n",
      "14            15         0       3    1  14.0      0      0    7.8542   \n",
      "15            16         1       2    1  55.0      0      0   16.0000   \n",
      "16            17         0       3    0   2.0      4      1   29.1250   \n",
      "17            18         1       2    0   NaN      0      0   13.0000   \n",
      "18            19         0       3    1  31.0      1      0   18.0000   \n",
      "19            20         1       3    1   NaN      0      0    7.2250   \n",
      "20            21         0       2    0  35.0      0      0   26.0000   \n",
      "21            22         1       2    0  34.0      0      0   13.0000   \n",
      "22            23         1       3    1  15.0      0      0    8.0292   \n",
      "23            24         1       1    0  28.0      0      0   35.5000   \n",
      "24            25         0       3    1   8.0      3      1   21.0750   \n",
      "25            26         1       3    1  38.0      1      5   31.3875   \n",
      "26            27         0       3    0   NaN      0      0    7.2250   \n",
      "27            28         0       1    0  19.0      3      2  263.0000   \n",
      "28            29         1       3    1   NaN      0      0    7.8792   \n",
      "29            30         0       3    0   NaN      0      0    7.8958   \n",
      "..           ...       ...     ...  ...   ...    ...    ...       ...   \n",
      "861          862         0       2    0  21.0      1      0   11.5000   \n",
      "862          863         1       1    1  48.0      0      0   25.9292   \n",
      "863          864         0       3    1   NaN      8      2   69.5500   \n",
      "864          865         0       2    0  24.0      0      0   13.0000   \n",
      "865          866         1       2    1  42.0      0      0   13.0000   \n",
      "866          867         1       2    1  27.0      1      0   13.8583   \n",
      "867          868         0       1    0  31.0      0      0   50.4958   \n",
      "868          869         0       3    0   NaN      0      0    9.5000   \n",
      "869          870         1       3    0   4.0      1      1   11.1333   \n",
      "870          871         0       3    0  26.0      0      0    7.8958   \n",
      "871          872         1       1    1  47.0      1      1   52.5542   \n",
      "872          873         0       1    0  33.0      0      0    5.0000   \n",
      "873          874         0       3    0  47.0      0      0    9.0000   \n",
      "874          875         1       2    1  28.0      1      0   24.0000   \n",
      "875          876         1       3    1  15.0      0      0    7.2250   \n",
      "876          877         0       3    0  20.0      0      0    9.8458   \n",
      "877          878         0       3    0  19.0      0      0    7.8958   \n",
      "878          879         0       3    0   NaN      0      0    7.8958   \n",
      "879          880         1       1    1  56.0      0      1   83.1583   \n",
      "880          881         1       2    1  25.0      0      1   26.0000   \n",
      "881          882         0       3    0  33.0      0      0    7.8958   \n",
      "882          883         0       3    1  22.0      0      0   10.5167   \n",
      "883          884         0       2    0  28.0      0      0   10.5000   \n",
      "884          885         0       3    0  25.0      0      0    7.0500   \n",
      "885          886         0       3    1  39.0      0      5   29.1250   \n",
      "886          887         0       2    0  27.0      0      0   13.0000   \n",
      "887          888         1       1    1  19.0      0      0   30.0000   \n",
      "888          889         0       3    1   NaN      1      2   23.4500   \n",
      "889          890         1       1    0  26.0      0      0   30.0000   \n",
      "890          891         0       3    0  32.0      0      0    7.7500   \n",
      "\n",
      "           Cabin  Embarked  CabinLetters  \n",
      "0            NaN         1           NaN  \n",
      "1            C85         2           3.0  \n",
      "2            NaN         1           NaN  \n",
      "3           C123         1           3.0  \n",
      "4            NaN         1           NaN  \n",
      "5            NaN         3           NaN  \n",
      "6            E46         1           5.0  \n",
      "7            NaN         1           NaN  \n",
      "8            NaN         1           NaN  \n",
      "9            NaN         2           NaN  \n",
      "10            G6         1           7.0  \n",
      "11          C103         1           3.0  \n",
      "12           NaN         1           NaN  \n",
      "13           NaN         1           NaN  \n",
      "14           NaN         1           NaN  \n",
      "15           NaN         1           NaN  \n",
      "16           NaN         3           NaN  \n",
      "17           NaN         1           NaN  \n",
      "18           NaN         1           NaN  \n",
      "19           NaN         2           NaN  \n",
      "20           NaN         1           NaN  \n",
      "21           D56         1           4.0  \n",
      "22           NaN         3           NaN  \n",
      "23            A6         1           1.0  \n",
      "24           NaN         1           NaN  \n",
      "25           NaN         1           NaN  \n",
      "26           NaN         2           NaN  \n",
      "27   C23 C25 C27         1           3.0  \n",
      "28           NaN         3           NaN  \n",
      "29           NaN         1           NaN  \n",
      "..           ...       ...           ...  \n",
      "861          NaN         1           NaN  \n",
      "862          D17         1           4.0  \n",
      "863          NaN         1           NaN  \n",
      "864          NaN         1           NaN  \n",
      "865          NaN         1           NaN  \n",
      "866          NaN         2           NaN  \n",
      "867          A24         1           1.0  \n",
      "868          NaN         1           NaN  \n",
      "869          NaN         1           NaN  \n",
      "870          NaN         1           NaN  \n",
      "871          D35         1           4.0  \n",
      "872  B51 B53 B55         1           2.0  \n",
      "873          NaN         1           NaN  \n",
      "874          NaN         2           NaN  \n",
      "875          NaN         2           NaN  \n",
      "876          NaN         1           NaN  \n",
      "877          NaN         1           NaN  \n",
      "878          NaN         1           NaN  \n",
      "879          C50         2           3.0  \n",
      "880          NaN         1           NaN  \n",
      "881          NaN         1           NaN  \n",
      "882          NaN         1           NaN  \n",
      "883          NaN         1           NaN  \n",
      "884          NaN         1           NaN  \n",
      "885          NaN         3           NaN  \n",
      "886          NaN         1           NaN  \n",
      "887          B42         1           2.0  \n",
      "888          NaN         1           NaN  \n",
      "889         C148         2           3.0  \n",
      "890          NaN         3           NaN  \n",
      "\n",
      "[891 rows x 11 columns]\n"
     ]
    }
   ],
   "source": [
    "def assignNumbersForCabinLetters(letter:str) -> int:\n",
    "    if letter == 'A':\n",
    "        return 1\n",
    "    elif letter == 'B':\n",
    "        return 2\n",
    "    elif letter == 'C':\n",
    "        return 3\n",
    "    elif letter == 'D':\n",
    "        return 4\n",
    "    elif letter == 'E':\n",
    "        return 5\n",
    "    elif letter == 'F':\n",
    "        return 6\n",
    "    elif letter == 'G':\n",
    "        return 7\n",
    "    elif letter == 'T':\n",
    "        return 8\n",
    "    else:\n",
    "        return None\n",
    "    \n",
    "def assignNumbersForSex(sex: str) -> int:\n",
    "    if sex == \"female\":\n",
    "        return 1\n",
    "    else:\n",
    "        return 0\n",
    "    \n",
    "def assignNumbersForPort(port: str) -> int:\n",
    "    if port == 'S':\n",
    "        return 1\n",
    "    elif port == 'C':\n",
    "        return 2\n",
    "    else:\n",
    "        return 3\n",
    "\n",
    "cabinLettersAsNumbers = cabinLetteredData['CabinLetters'].map(assignNumbersForCabinLetters)\n",
    "cabinNumberedData  = cabinLetteredData.assign(CabinLetters = cabinLettersAsNumbers)\n",
    "sexAsNumbers = cabinNumberedData['Sex'].map(assignNumbersForSex)\n",
    "cabinSexNumberedData = cabinNumberedData.assign(Sex = sexAsNumbers)\n",
    "portAsNumbers = cabinSexNumberedData['Embarked'].map(assignNumbersForPort)\n",
    "numberedData = cabinSexNumberedData.assign(Embarked = portAsNumbers)\n",
    "print(numberedData)"
   ]
  },
  {
   "cell_type": "markdown",
   "metadata": {
    "deletable": true,
    "editable": true
   },
   "source": [
    "### Exercise 1.4: imputate the data"
   ]
  },
  {
   "cell_type": "code",
   "execution_count": 126,
   "metadata": {
    "collapsed": false,
    "deletable": true,
    "editable": true
   },
   "outputs": [],
   "source": [
    "def pAssign(df, colName, colVal):\n",
    "    kwargs = {colName: colVal}\n",
    "    return df.assign(**kwargs)\n",
    "\n",
    "def fillNaWithAvg(df, columnName):\n",
    "    newColumn = df[columnName].fillna(df[columnName].mean())\n",
    "    return pAssign(df, columnName, newColumn)\n",
    "\n",
    "def fillNaWithMode(df, columnName):\n",
    "    newColumn = df[columnName].fillna(df[columnName].mode().iloc[0])\n",
    "    return pAssign(df, columnName, newColumn)\n",
    "\n",
    "imputatedData = fillNaWithMode(\n",
    "    fillNaWithMode(\n",
    "        fillNaWithAvg(\n",
    "            fillNaWithMode(\n",
    "                numberedData,\n",
    "                'Embarked'\n",
    "            ),\n",
    "            'Age'\n",
    "        ),\n",
    "        'CabinLetters'\n",
    "    ),\n",
    "    'Cabin'\n",
    ")"
   ]
  },
  {
   "cell_type": "markdown",
   "metadata": {
    "deletable": true,
    "editable": true
   },
   "source": [
    "Let's check for null values...."
   ]
  },
  {
   "cell_type": "code",
   "execution_count": 127,
   "metadata": {
    "collapsed": false,
    "deletable": true,
    "editable": true
   },
   "outputs": [
    {
     "data": {
      "text/plain": [
       "PassengerId     False\n",
       "Survived        False\n",
       "Pclass          False\n",
       "Sex             False\n",
       "Age             False\n",
       "SibSp           False\n",
       "Parch           False\n",
       "Fare            False\n",
       "Cabin           False\n",
       "Embarked        False\n",
       "CabinLetters    False\n",
       "dtype: bool"
      ]
     },
     "execution_count": 127,
     "metadata": {},
     "output_type": "execute_result"
    }
   ],
   "source": [
    "imputatedData.isnull().any()"
   ]
  },
  {
   "cell_type": "markdown",
   "metadata": {
    "deletable": true,
    "editable": true
   },
   "source": [
    "And print the data again:"
   ]
  },
  {
   "cell_type": "code",
   "execution_count": 128,
   "metadata": {
    "collapsed": false,
    "deletable": true,
    "editable": true
   },
   "outputs": [
    {
     "name": "stdout",
     "output_type": "stream",
     "text": [
      "     PassengerId  Survived  Pclass  Sex        Age  SibSp  Parch      Fare  \\\n",
      "0              1         0       3    0  22.000000      1      0    7.2500   \n",
      "1              2         1       1    1  38.000000      1      0   71.2833   \n",
      "2              3         1       3    1  26.000000      0      0    7.9250   \n",
      "3              4         1       1    1  35.000000      1      0   53.1000   \n",
      "4              5         0       3    0  35.000000      0      0    8.0500   \n",
      "5              6         0       3    0  29.699118      0      0    8.4583   \n",
      "6              7         0       1    0  54.000000      0      0   51.8625   \n",
      "7              8         0       3    0   2.000000      3      1   21.0750   \n",
      "8              9         1       3    1  27.000000      0      2   11.1333   \n",
      "9             10         1       2    1  14.000000      1      0   30.0708   \n",
      "10            11         1       3    1   4.000000      1      1   16.7000   \n",
      "11            12         1       1    1  58.000000      0      0   26.5500   \n",
      "12            13         0       3    0  20.000000      0      0    8.0500   \n",
      "13            14         0       3    0  39.000000      1      5   31.2750   \n",
      "14            15         0       3    1  14.000000      0      0    7.8542   \n",
      "15            16         1       2    1  55.000000      0      0   16.0000   \n",
      "16            17         0       3    0   2.000000      4      1   29.1250   \n",
      "17            18         1       2    0  29.699118      0      0   13.0000   \n",
      "18            19         0       3    1  31.000000      1      0   18.0000   \n",
      "19            20         1       3    1  29.699118      0      0    7.2250   \n",
      "20            21         0       2    0  35.000000      0      0   26.0000   \n",
      "21            22         1       2    0  34.000000      0      0   13.0000   \n",
      "22            23         1       3    1  15.000000      0      0    8.0292   \n",
      "23            24         1       1    0  28.000000      0      0   35.5000   \n",
      "24            25         0       3    1   8.000000      3      1   21.0750   \n",
      "25            26         1       3    1  38.000000      1      5   31.3875   \n",
      "26            27         0       3    0  29.699118      0      0    7.2250   \n",
      "27            28         0       1    0  19.000000      3      2  263.0000   \n",
      "28            29         1       3    1  29.699118      0      0    7.8792   \n",
      "29            30         0       3    0  29.699118      0      0    7.8958   \n",
      "..           ...       ...     ...  ...        ...    ...    ...       ...   \n",
      "861          862         0       2    0  21.000000      1      0   11.5000   \n",
      "862          863         1       1    1  48.000000      0      0   25.9292   \n",
      "863          864         0       3    1  29.699118      8      2   69.5500   \n",
      "864          865         0       2    0  24.000000      0      0   13.0000   \n",
      "865          866         1       2    1  42.000000      0      0   13.0000   \n",
      "866          867         1       2    1  27.000000      1      0   13.8583   \n",
      "867          868         0       1    0  31.000000      0      0   50.4958   \n",
      "868          869         0       3    0  29.699118      0      0    9.5000   \n",
      "869          870         1       3    0   4.000000      1      1   11.1333   \n",
      "870          871         0       3    0  26.000000      0      0    7.8958   \n",
      "871          872         1       1    1  47.000000      1      1   52.5542   \n",
      "872          873         0       1    0  33.000000      0      0    5.0000   \n",
      "873          874         0       3    0  47.000000      0      0    9.0000   \n",
      "874          875         1       2    1  28.000000      1      0   24.0000   \n",
      "875          876         1       3    1  15.000000      0      0    7.2250   \n",
      "876          877         0       3    0  20.000000      0      0    9.8458   \n",
      "877          878         0       3    0  19.000000      0      0    7.8958   \n",
      "878          879         0       3    0  29.699118      0      0    7.8958   \n",
      "879          880         1       1    1  56.000000      0      1   83.1583   \n",
      "880          881         1       2    1  25.000000      0      1   26.0000   \n",
      "881          882         0       3    0  33.000000      0      0    7.8958   \n",
      "882          883         0       3    1  22.000000      0      0   10.5167   \n",
      "883          884         0       2    0  28.000000      0      0   10.5000   \n",
      "884          885         0       3    0  25.000000      0      0    7.0500   \n",
      "885          886         0       3    1  39.000000      0      5   29.1250   \n",
      "886          887         0       2    0  27.000000      0      0   13.0000   \n",
      "887          888         1       1    1  19.000000      0      0   30.0000   \n",
      "888          889         0       3    1  29.699118      1      2   23.4500   \n",
      "889          890         1       1    0  26.000000      0      0   30.0000   \n",
      "890          891         0       3    0  32.000000      0      0    7.7500   \n",
      "\n",
      "           Cabin  Embarked  CabinLetters  \n",
      "0        B96 B98         1           3.0  \n",
      "1            C85         2           3.0  \n",
      "2        B96 B98         1           3.0  \n",
      "3           C123         1           3.0  \n",
      "4        B96 B98         1           3.0  \n",
      "5        B96 B98         3           3.0  \n",
      "6            E46         1           5.0  \n",
      "7        B96 B98         1           3.0  \n",
      "8        B96 B98         1           3.0  \n",
      "9        B96 B98         2           3.0  \n",
      "10            G6         1           7.0  \n",
      "11          C103         1           3.0  \n",
      "12       B96 B98         1           3.0  \n",
      "13       B96 B98         1           3.0  \n",
      "14       B96 B98         1           3.0  \n",
      "15       B96 B98         1           3.0  \n",
      "16       B96 B98         3           3.0  \n",
      "17       B96 B98         1           3.0  \n",
      "18       B96 B98         1           3.0  \n",
      "19       B96 B98         2           3.0  \n",
      "20       B96 B98         1           3.0  \n",
      "21           D56         1           4.0  \n",
      "22       B96 B98         3           3.0  \n",
      "23            A6         1           1.0  \n",
      "24       B96 B98         1           3.0  \n",
      "25       B96 B98         1           3.0  \n",
      "26       B96 B98         2           3.0  \n",
      "27   C23 C25 C27         1           3.0  \n",
      "28       B96 B98         3           3.0  \n",
      "29       B96 B98         1           3.0  \n",
      "..           ...       ...           ...  \n",
      "861      B96 B98         1           3.0  \n",
      "862          D17         1           4.0  \n",
      "863      B96 B98         1           3.0  \n",
      "864      B96 B98         1           3.0  \n",
      "865      B96 B98         1           3.0  \n",
      "866      B96 B98         2           3.0  \n",
      "867          A24         1           1.0  \n",
      "868      B96 B98         1           3.0  \n",
      "869      B96 B98         1           3.0  \n",
      "870      B96 B98         1           3.0  \n",
      "871          D35         1           4.0  \n",
      "872  B51 B53 B55         1           2.0  \n",
      "873      B96 B98         1           3.0  \n",
      "874      B96 B98         2           3.0  \n",
      "875      B96 B98         2           3.0  \n",
      "876      B96 B98         1           3.0  \n",
      "877      B96 B98         1           3.0  \n",
      "878      B96 B98         1           3.0  \n",
      "879          C50         2           3.0  \n",
      "880      B96 B98         1           3.0  \n",
      "881      B96 B98         1           3.0  \n",
      "882      B96 B98         1           3.0  \n",
      "883      B96 B98         1           3.0  \n",
      "884      B96 B98         1           3.0  \n",
      "885      B96 B98         3           3.0  \n",
      "886      B96 B98         1           3.0  \n",
      "887          B42         1           2.0  \n",
      "888      B96 B98         1           3.0  \n",
      "889         C148         2           3.0  \n",
      "890      B96 B98         3           3.0  \n",
      "\n",
      "[891 rows x 11 columns]\n"
     ]
    }
   ],
   "source": [
    "print(imputatedData)"
   ]
  },
  {
   "cell_type": "markdown",
   "metadata": {
    "deletable": true,
    "editable": true
   },
   "source": [
    "### Exercise 1.6: write data to csv and json"
   ]
  },
  {
   "cell_type": "code",
   "execution_count": 133,
   "metadata": {
    "collapsed": false,
    "deletable": true,
    "editable": true
   },
   "outputs": [],
   "source": [
    "imputatedData.to_csv('ex1_output.csv')"
   ]
  },
  {
   "cell_type": "code",
   "execution_count": 134,
   "metadata": {
    "collapsed": true,
    "deletable": true,
    "editable": true
   },
   "outputs": [],
   "source": [
    "imputatedData.to_json('ex1_output.json', orient=\"index\")"
   ]
  },
  {
   "cell_type": "code",
   "execution_count": null,
   "metadata": {
    "collapsed": true,
    "deletable": true,
    "editable": true
   },
   "outputs": [],
   "source": []
  }
 ],
 "metadata": {
  "kernelspec": {
   "display_name": "Python 3",
   "language": "python",
   "name": "python3"
  },
  "language_info": {
   "codemirror_mode": {
    "name": "ipython",
    "version": 3
   },
   "file_extension": ".py",
   "mimetype": "text/x-python",
   "name": "python",
   "nbconvert_exporter": "python",
   "pygments_lexer": "ipython3",
   "version": "3.6.0"
  }
 },
 "nbformat": 4,
 "nbformat_minor": 2
}
